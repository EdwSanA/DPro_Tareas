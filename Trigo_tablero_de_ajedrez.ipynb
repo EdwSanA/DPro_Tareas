{
  "nbformat": 4,
  "nbformat_minor": 0,
  "metadata": {
    "colab": {
      "provenance": [],
      "authorship_tag": "ABX9TyM0fhlIr2yYhG3ScH8TQSGU",
      "include_colab_link": true
    },
    "kernelspec": {
      "name": "python3",
      "display_name": "Python 3"
    },
    "language_info": {
      "name": "python"
    }
  },
  "cells": [
    {
      "cell_type": "markdown",
      "metadata": {
        "id": "view-in-github",
        "colab_type": "text"
      },
      "source": [
        "<a href=\"https://colab.research.google.com/github/EdwSanA/DPro_Tareas/blob/main/Trigo_tablero_de_ajedrez.ipynb\" target=\"_parent\"><img src=\"https://colab.research.google.com/assets/colab-badge.svg\" alt=\"Open In Colab\"/></a>"
      ]
    },
    {
      "cell_type": "markdown",
      "source": [
        "**Problema del trigo y el tablero de ajedrez**\n",
        "\n",
        "Similar a la historia del arroz de Soroshi Shinzaemon, existe la historia del trigo y el tablero de ajedrez. Con esto como tema, nos familiarizaremos con el uso de NumPy , una biblioteca numérica para manejar matrices multidimensionales.\n",
        "\n",
        "Si en un tablero de ajedrez se colocara trigo en cada casilla de manera que se colocara un grano en la primera casilla, dos en la segunda, cuatro en la tercera y así sucesivamente (duplicando el número de granos en cada casilla subsiguiente), ¿cuántos granos de trigo habría en el tablero de ajedrez al final?\n",
        "\n",
        "Problema del trigo y el tablero de ajedrez - Wikipedia (Última consulta: 31 de mayo de 2019)\n",
        "\n",
        "El problema es encontrar el número final de granos de trigo en un tablero de ajedrez de 8x8 colocándolos en el orden 1, 2, 4."
      ],
      "metadata": {
        "id": "_pA5UGSgHxcC"
      }
    },
    {
      "cell_type": "code",
      "execution_count": 2,
      "metadata": {
        "colab": {
          "base_uri": "https://localhost:8080/"
        },
        "id": "_33DuqZlfdKW",
        "outputId": "88815f70-066a-4e2f-c25d-9cf2d5d8b8a0"
      },
      "outputs": [
        {
          "output_type": "stream",
          "name": "stdout",
          "text": [
            "Disponer el trigo en una tabla con 4 cuadrados (lista).：[1, 2, 4, 8]\n"
          ]
        }
      ],
      "source": [
        "n_squares = 4\n",
        "small_board_list = [1]\n",
        "for _ in range(n_squares - 1):\n",
        "    small_board_list.append(2*small_board_list[-1])\n",
        "print(\"Disponer el trigo en una tabla con 4 cuadrados (lista).：{}\".format(small_board_list))"
      ]
    },
    {
      "cell_type": "code",
      "source": [
        "import numpy as np\n",
        "\n",
        "small_board_ndarray = np.array(small_board_list)\n",
        "print(\"Disponer el trigo en un tablero con 4 cuadrados (ndarray).：{}\".format(small_board_ndarray))"
      ],
      "metadata": {
        "colab": {
          "base_uri": "https://localhost:8080/"
        },
        "id": "7N555G5SfrTv",
        "outputId": "fcd3b5fc-e7cd-4d21-d0d9-85314a653e1b"
      },
      "execution_count": 3,
      "outputs": [
        {
          "output_type": "stream",
          "name": "stdout",
          "text": [
            "Disponer el trigo en un tablero con 4 cuadrados (ndarray).：[1 2 4 8]\n"
          ]
        }
      ]
    },
    {
      "cell_type": "markdown",
      "source": [
        "**PROBLEMA 1: # Tablero de ajedrez 4.8 x 8 (2*2)**\n",
        "\n",
        "Representa un tablero de ajedrez de 2 x 2 cuadrados con ndarray y calcula la cantidad de trigo en cada cuadrado. Después de colocar un trigo en el cuadrado superior izquierdo, coloca dos a la derecha, cuatro a la izquierda y ocho a la derecha.\n",
        "\n",
        "Modifique la forma del ndarray creado con el código de muestra."
      ],
      "metadata": {
        "id": "t4u0svdmhGeo"
      }
    },
    {
      "cell_type": "code",
      "source": [
        "n_squares = 4\n",
        "small_board_list = [1]\n",
        "for _ in range(n_squares - 1):\n",
        "    small_board_list.append(2 * small_board_list[-1])\n",
        "small_board_ndarray = np.array(small_board_list).reshape(2, 2)\n",
        "\n",
        "print(\"The number of wheats on a 2x2 shaped ndarray are: \\n{}\".format(small_board_ndarray))\n"
      ],
      "metadata": {
        "colab": {
          "base_uri": "https://localhost:8080/"
        },
        "id": "CUBwzaSphIWe",
        "outputId": "f6428499-44a3-45b2-9231-21ac31f70488"
      },
      "execution_count": 4,
      "outputs": [
        {
          "output_type": "stream",
          "name": "stdout",
          "text": [
            "The number of wheats on a 2x2 shaped ndarray are: \n",
            "[[1 2]\n",
            " [4 8]]\n"
          ]
        }
      ]
    },
    {
      "cell_type": "markdown",
      "source": [
        "PROBLEMA 2:\n",
        "Crea una función que devuelva un ndarray con la cantidad de trigo en un tablero de ajedrez de nxm. Luego, usa esta función para encontrar la cantidad de trigo en el tablero de ajedrez de 8x8 cuadrados."
      ],
      "metadata": {
        "id": "ec9QO_ndiXgo"
      }
    },
    {
      "cell_type": "code",
      "source": [
        "def wheat_on_chessboard(n_rows, n_cols):\n",
        "    chess_squares = n_rows * n_cols\n",
        "    chess_board_list = [1]\n",
        "    for square in range(chess_squares - 1):\n",
        "        chess_board_list.append(2 * chess_board_list[square])\n",
        "\n",
        "    return np.array(chess_board_list).reshape(n_rows, n_cols).astype(np.uint64)\n",
        "\n",
        "chessboard_8x8 = wheat_on_chessboard(8, 8)\n",
        "print(f\"Number of wheat on a 8x8 chessboard \\n{chessboard_8x8}\")\n"
      ],
      "metadata": {
        "colab": {
          "base_uri": "https://localhost:8080/"
        },
        "id": "dekXRFO8ieA9",
        "outputId": "8f6e664b-097e-4e6a-f754-d583a546e244"
      },
      "execution_count": null,
      "outputs": [
        {
          "output_type": "stream",
          "name": "stdout",
          "text": [
            "Number of wheat on a 8x8 chessboard \n",
            "[[                  1                   2                   4\n",
            "                    8                  16                  32\n",
            "                   64                 128]\n",
            " [                256                 512                1024\n",
            "                 2048                4096                8192\n",
            "                16384               32768]\n",
            " [              65536              131072              262144\n",
            "               524288             1048576             2097152\n",
            "              4194304             8388608]\n",
            " [           16777216            33554432            67108864\n",
            "            134217728           268435456           536870912\n",
            "           1073741824          2147483648]\n",
            " [         4294967296          8589934592         17179869184\n",
            "          34359738368         68719476736        137438953472\n",
            "         274877906944        549755813888]\n",
            " [      1099511627776       2199023255552       4398046511104\n",
            "        8796093022208      17592186044416      35184372088832\n",
            "       70368744177664     140737488355328]\n",
            " [    281474976710656     562949953421312    1125899906842624\n",
            "     2251799813685248    4503599627370496    9007199254740992\n",
            "    18014398509481984   36028797018963968]\n",
            " [  72057594037927936  144115188075855872  288230376151711744\n",
            "   576460752303423488 1152921504606846976 2305843009213693952\n",
            "  4611686018427387904 9223372036854775808]]\n"
          ]
        }
      ]
    },
    {
      "cell_type": "markdown",
      "source": [
        "PROBLEMA 3: graficar lo del ejercicio 2. muestra el crecimiento exponencial de numero de granos de trigo"
      ],
      "metadata": {
        "id": "NkcMYxEMl58f"
      }
    },
    {
      "cell_type": "code",
      "source": [
        "import matplotlib.pyplot as plt\n",
        "%matplotlib inline\n",
        "\n",
        "chessboard_8x8 = wheat_on_chessboard(8, 8)\n",
        "\n",
        "# total number of wheats\n",
        "total_wheat = np.sum(chessboard_8x8)\n",
        "print(f\"Total number of wheats on the 8x8 chessboard \\n{total_wheat}\")\n",
        "print(\"\\n\")\n",
        "\n",
        "# average of each column\n",
        "column_averages = np.mean(chessboard_8x8, axis=0)\n",
        "print(f\"Average of each column in the 8x8 chessboard \\n{column_averages}\")\n",
        "print(\"\\n\")\n",
        "\n",
        "# bar chart for column averages\n",
        "plt.xlabel(\"column\")\n",
        "plt.ylabel(\"number\")\n",
        "plt.title(\"number in each column\")\n",
        "plt.bar(np.arange(1, 9), column_averages)  # The number of each column is shown as a provisional value\n",
        "plt.show()\n"
      ],
      "metadata": {
        "colab": {
          "base_uri": "https://localhost:8080/",
          "height": 628
        },
        "id": "oJTP0DxFl9uf",
        "outputId": "39577b29-9c93-46d2-e569-b9066e30a3d5"
      },
      "execution_count": null,
      "outputs": [
        {
          "output_type": "stream",
          "name": "stdout",
          "text": [
            "Total number of wheats on the 8x8 chessboard \n",
            "18446744073709551615\n",
            "\n",
            "\n",
            "Average of each column in the 8x8 chessboard \n",
            "[9.04252160e+15 1.80850432e+16 3.61700864e+16 7.23401728e+16\n",
            " 1.44680346e+17 2.89360691e+17 5.78721383e+17 1.15744277e+18]\n",
            "\n",
            "\n"
          ]
        },
        {
          "output_type": "display_data",
          "data": {
            "text/plain": [
              "<Figure size 640x480 with 1 Axes>"
            ],
            "image/png": "[encoded data removed]"
          },
          "metadata": {}
        }
      ]
    },
    {
      "cell_type": "markdown",
      "source": [
        "Problema 4: heat map of the number of wheat"
      ],
      "metadata": {
        "id": "EHHFMWgXmkUT"
      }
    },
    {
      "cell_type": "code",
      "source": [
        "chessboard_8x8 = wheat_on_chessboard(8, 8)\n",
        "\n",
        "plt.xlabel(\"column\")\n",
        "plt.ylabel(\"row\")\n",
        "plt.title(\"heatmap\")\n",
        "plt.pcolor(chessboard_8x8)\n",
        "plt.show()\n"
      ],
      "metadata": {
        "colab": {
          "base_uri": "https://localhost:8080/",
          "height": 472
        },
        "id": "HmDYsNWOmt-I",
        "outputId": "0d14d068-a6e7-47d4-c56c-0e8ccde05baa"
      },
      "execution_count": null,
      "outputs": [
        {
          "output_type": "display_data",
          "data": {
            "text/plain": [
              "<Figure size 640x480 with 1 Axes>"
            ],
            "image/png": "[encoded data removed]"
          },
          "metadata": {}
        }
      ]
    },
    {
      "cell_type": "markdown",
      "source": [
        "PROBLEMA 5: Comparar la primera mitad y la segunda mitad"
      ],
      "metadata": {
        "id": "o8e4SMxBoEUV"
      }
    },
    {
      "cell_type": "code",
      "source": [
        "chessboard_8x8 = wheat_on_chessboard(8, 8)\n",
        "\n",
        "# first half (0-3)\n",
        "first_half = chessboard_8x8[0:4, :]\n",
        "first_half_sum = np.sum(first_half)\n",
        "\n",
        "# second half (4-7)\n",
        "second_half = chessboard_8x8[4:8, :]\n",
        "second_half_sum = np.sum(second_half)\n",
        "\n",
        "ratio = second_half_sum / first_half_sum\n",
        "\n",
        "print(f\"first half: {first_half_sum}\")\n",
        "print(f\"second half: {second_half_sum}\")\n",
        "print(f\"The second half contains {ratio} times more than the first half\")\n"
      ],
      "metadata": {
        "colab": {
          "base_uri": "https://localhost:8080/"
        },
        "id": "p7cwySEjoIEq",
        "outputId": "808fa414-ba1f-4e4e-d778-ccb74bf7625d"
      },
      "execution_count": null,
      "outputs": [
        {
          "output_type": "stream",
          "name": "stdout",
          "text": [
            "first half: 4294967295\n",
            "second half: 18446744069414584320\n",
            "The second half contains 4294967296.0 times more than the first half\n"
          ]
        }
      ]
    },
    {
      "cell_type": "markdown",
      "source": [
        "PROBLEMA 6: Métodos alternativos para crear el tablero de ajedrez\n"
      ],
      "metadata": {
        "id": "tnnujB3NquFE"
      }
    },
    {
      "cell_type": "code",
      "source": [
        "# method 1: using np.append()\n",
        "def wheat_on_chessboard_append(n_rows, n_cols):\n",
        "    chess_squares = n_rows * n_cols\n",
        "    wheat_counts = np.array([1], dtype=np.uint64)\n",
        "    for _ in range(chess_squares - 1):\n",
        "        wheat_counts = np.append(wheat_counts, 2 * wheat_counts[-1])\n",
        "\n",
        "    return wheat_counts.reshape(n_rows, n_cols)\n",
        "\n",
        "# method 2: using broadcast\n",
        "def wheat_on_chessboard_broadcast(n_rows, n_cols):\n",
        "    chess_squares = n_rows * n_cols\n",
        "    indices = np.arange(chess_squares, dtype=np.uint64)\n",
        "    wheats_counts = 2 ** indices\n",
        "    return wheats_counts.reshape(n_rows, n_cols)\n",
        "\n",
        "chessboard_8x8_append = wheat_on_chessboard_append(8, 8)\n",
        "chessboard_8x8_broadcast = wheat_on_chessboard_broadcast(8, 8)\n",
        "\n",
        "print(f\"chessboard_8x8_append \\n{chessboard_8x8_append}\")\n",
        "print(\"\\n\")\n",
        "print(f\"chessboard_8x8_broadcast \\n{chessboard_8x8_broadcast}\")\n"
      ],
      "metadata": {
        "colab": {
          "base_uri": "https://localhost:8080/"
        },
        "id": "P-xxt093qw4R",
        "outputId": "7f32a113-3cee-4143-c6b7-8f223e617d69"
      },
      "execution_count": null,
      "outputs": [
        {
          "output_type": "stream",
          "name": "stdout",
          "text": [
            "chessboard_8x8_append \n",
            "[[                  1                   2                   4\n",
            "                    8                  16                  32\n",
            "                   64                 128]\n",
            " [                256                 512                1024\n",
            "                 2048                4096                8192\n",
            "                16384               32768]\n",
            " [              65536              131072              262144\n",
            "               524288             1048576             2097152\n",
            "              4194304             8388608]\n",
            " [           16777216            33554432            67108864\n",
            "            134217728           268435456           536870912\n",
            "           1073741824          2147483648]\n",
            " [         4294967296          8589934592         17179869184\n",
            "          34359738368         68719476736        137438953472\n",
            "         274877906944        549755813888]\n",
            " [      1099511627776       2199023255552       4398046511104\n",
            "        8796093022208      17592186044416      35184372088832\n",
            "       70368744177664     140737488355328]\n",
            " [    281474976710656     562949953421312    1125899906842624\n",
            "     2251799813685248    4503599627370496    9007199254740992\n",
            "    18014398509481984   36028797018963968]\n",
            " [  72057594037927936  144115188075855872  288230376151711744\n",
            "   576460752303423488 1152921504606846976 2305843009213693952\n",
            "  4611686018427387904 9223372036854775808]]\n",
            "\n",
            "\n",
            "chessboard_8x8_broadcast \n",
            "[[                  1                   2                   4\n",
            "                    8                  16                  32\n",
            "                   64                 128]\n",
            " [                256                 512                1024\n",
            "                 2048                4096                8192\n",
            "                16384               32768]\n",
            " [              65536              131072              262144\n",
            "               524288             1048576             2097152\n",
            "              4194304             8388608]\n",
            " [           16777216            33554432            67108864\n",
            "            134217728           268435456           536870912\n",
            "           1073741824          2147483648]\n",
            " [         4294967296          8589934592         17179869184\n",
            "          34359738368         68719476736        137438953472\n",
            "         274877906944        549755813888]\n",
            " [      1099511627776       2199023255552       4398046511104\n",
            "        8796093022208      17592186044416      35184372088832\n",
            "       70368744177664     140737488355328]\n",
            " [    281474976710656     562949953421312    1125899906842624\n",
            "     2251799813685248    4503599627370496    9007199254740992\n",
            "    18014398509481984   36028797018963968]\n",
            " [  72057594037927936  144115188075855872  288230376151711744\n",
            "   576460752303423488 1152921504606846976 2305843009213693952\n",
            "  4611686018427387904 9223372036854775808]]\n"
          ]
        }
      ]
    },
    {
      "cell_type": "markdown",
      "source": [
        "Problema 7: Comparar el tiempo de cálculo"
      ],
      "metadata": {
        "id": "IrrHjEwjtp7Z"
      }
    },
    {
      "cell_type": "code",
      "source": [
        "# Method 1: Using Python lists\n",
        "%%timeit\n",
        "def wheat_on_chessboard(n_rows, n_cols):\n",
        "    chess_squares = n_rows * n_cols\n",
        "    chess_board_list = [1]\n",
        "    for square in range(chess_squares - 1):\n",
        "        chess_board_list.append(2 * chess_board_list[square])\n",
        "\n",
        "    return np.array(chess_board_list).reshape(n_rows, n_cols).astype(np.uint64)\n"
      ],
      "metadata": {
        "colab": {
          "base_uri": "https://localhost:8080/"
        },
        "id": "4565OXUUtl9w",
        "outputId": "390be4fe-a9c7-46d8-aed0-cf6d3a69323e"
      },
      "execution_count": null,
      "outputs": [
        {
          "output_type": "stream",
          "name": "stdout",
          "text": [
            "82.1 ns ± 1.06 ns per loop (mean ± std. dev. of 7 runs, 10000000 loops each)\n"
          ]
        }
      ]
    },
    {
      "cell_type": "code",
      "source": [
        "# Method 2: Using np.append()\n",
        "%%timeit\n",
        "def wheat_on_chessboard_append(n_rows, n_cols):\n",
        "    chess_squares = n_rows * n_cols\n",
        "    wheat_counts = np.array([1], dtype=np.uint64)\n",
        "    for _ in range(chess_squares - 1):\n",
        "        wheat_counts = np.append(wheat_counts, 2 * wheat_counts[-1])\n",
        "\n",
        "    return wheat_counts.reshape(n_rows, n_cols)\n"
      ],
      "metadata": {
        "colab": {
          "base_uri": "https://localhost:8080/"
        },
        "id": "wJ3MRNTJvPo_",
        "outputId": "f3d2b2c6-d262-4575-f5b9-0c04ae0be94b"
      },
      "execution_count": null,
      "outputs": [
        {
          "output_type": "stream",
          "name": "stdout",
          "text": [
            "97.6 ns ± 25.7 ns per loop (mean ± std. dev. of 7 runs, 10000000 loops each)\n"
          ]
        }
      ]
    },
    {
      "cell_type": "code",
      "source": [
        "# Method 3: Using broadcasting\n",
        "%%timeit\n",
        "def wheat_on_chessboard_broadcast(n_rows, n_cols):\n",
        "    chess_squares = n_rows * n_cols\n",
        "    indices = np.arange(chess_squares, dtype=np.uint64)\n",
        "    wheat_counts = 2 ** indices\n",
        "    return wheat_counts.reshape(n_rows, n_cols)\n"
      ],
      "metadata": {
        "id": "OLaj4RGRvgTn",
        "outputId": "19c5156d-709e-4af6-e018-e55321ea070b",
        "colab": {
          "base_uri": "https://localhost:8080/"
        }
      },
      "execution_count": null,
      "outputs": [
        {
          "output_type": "stream",
          "name": "stdout",
          "text": [
            "81.3 ns ± 1.17 ns per loop (mean ± std. dev. of 7 runs, 10000000 loops each)\n"
          ]
        }
      ]
    }
  ]
}