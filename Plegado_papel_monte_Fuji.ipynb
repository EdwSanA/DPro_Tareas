{
  "nbformat": 4,
  "nbformat_minor": 0,
  "metadata": {
    "colab": {
      "provenance": [],
      "authorship_tag": "ABX9TyMyDVpa7mPR9N32rdTMFUt/",
      "include_colab_link": true
    },
    "kernelspec": {
      "name": "python3",
      "display_name": "Python 3"
    },
    "language_info": {
      "name": "python"
    }
  },
  "cells": [
    {
      "cell_type": "markdown",
      "metadata": {
        "id": "view-in-github",
        "colab_type": "text"
      },
      "source": [
        "<a href=\"https://colab.research.google.com/github/EdwSanA/DPro_Tareas/blob/main/Plegado_papel_monte_Fuji.ipynb\" target=\"_parent\"><img src=\"https://colab.research.google.com/assets/colab-badge.svg\" alt=\"Open In Colab\"/></a>"
      ]
    },
    {
      "cell_type": "markdown",
      "source": [
        "**¿Cuántas veces hay que doblar el papel para superar la altura del monte Fuji?**\n",
        "\n",
        "Ahora, en la tarea “Intentemos usar Python”, implementaremos un programa para calcular el grosor de una hoja de papel cuando se dobla 43 veces, y confirmaremos que el papel llegaría a la luna si se dobla 43 veces.\n",
        "\n",
        "Ahora, implementemos un programa que calcule “cuántas veces doblar para obtener el grosor deseado”.\n",
        "\n",
        "Fórmula para el grosor del papel doblado\n",
        "Papel nnEl espesor cuando se difracta t​ ​ntnEntonces, se puede expresar de la siguiente manera.\n",
        "\n",
        "t​ ​n​ ​=​ ​t​ ​0​ ​×marca x (se usa para indicar una respuesta incorrecta en una prueba, etc.)​ ​2​ ​ntn=t0×2n\n",
        "\n",
        "Dado que el grosor del papel de copia general es de aproximadamente  0,00008 m , t​ ​0​ ​=​ ​0,00008t0=0,00008."
      ],
      "metadata": {
        "id": "mFQ0m4Zs3q9Q"
      }
    },
    {
      "cell_type": "markdown",
      "source": [
        "**[Problema 1] ¿Cuántas veces hay que doblar el papel para superar la altura del Monte Fuji?**\n",
        "\n",
        "Cree un programa que calcule el número mínimo de veces que se debe doblar el papel para que su grosor supere la “altura del monte Fuji (3776 m)”."
      ],
      "metadata": {
        "id": "W3umzO9F3wZz"
      }
    },
    {
      "cell_type": "code",
      "source": [
        "import math\n",
        "\n",
        "# Grosor inicial del papel en metros\n",
        "thickness_0 = 0.00008   # 0.08 mm\n",
        "\n",
        "# Altura del Monte Fuji en metros\n",
        "fuji_height = 3776\n",
        "\n",
        "# Fórmula: t_n = t0 * 2^n  ⇒  2^n >= fuji_height / t0\n",
        "n = math.ceil(math.log2(fuji_height / thickness_0))\n",
        "\n",
        "print(f\"Para superar {fuji_height} m se necesita doblar el papel {n} veces.\")\n"
      ],
      "metadata": {
        "colab": {
          "base_uri": "https://localhost:8080/"
        },
        "id": "UCeU8lVg4VDX",
        "outputId": "c3e4899a-9fe7-49c2-ac19-8363a66cb82d"
      },
      "execution_count": 2,
      "outputs": [
        {
          "output_type": "stream",
          "name": "stdout",
          "text": [
            "Para superar 3776 m se necesita doblar el papel 26 veces.\n"
          ]
        }
      ]
    },
    {
      "cell_type": "markdown",
      "source": [
        "**[Problema 2] Función correspondiente a un espesor arbitrario**\n",
        "\n",
        "Implementa una función que muestre el número mínimo de pliegues de papel necesarios para alcanzar una altura y superarla. Como argumento, el grosor antes del plegado t​ ​0t0.\n",
        "\n",
        "Utilice esta función para calcular cuántas veces debe difractarse el papel para alcanzar la estrella más cercana, distinta del Sol.\n",
        "La estrella más cercana, distinta del Sol, es Próxima Centauri, que se encuentra aproximadamente a la misma distancia de la Tierra. 4,0175 x 10 164,0175 × 10 16 m."
      ],
      "metadata": {
        "id": "mcfViMMZ60yY"
      }
    },
    {
      "cell_type": "code",
      "source": [
        "import math\n",
        "\n",
        "def min_folds_to_reach(target_height_m: float, t0: float = 0.00008) -> int:\n",
        "    \"\"\"\n",
        "    Calcula el número mínimo de dobleces necesarios para que\n",
        "    un papel de grosor t0 alcance o supere una altura deseada.\n",
        "\n",
        "    Parámetros\n",
        "    ----------\n",
        "    target_height_m : float\n",
        "        Altura objetivo en metros.\n",
        "    t0 : float, opcional\n",
        "        Grosor inicial del papel en metros (por defecto 0.00008 m = 0.08 mm).\n",
        "\n",
        "    Retorna\n",
        "    -------\n",
        "    int\n",
        "        Número mínimo de dobleces requeridos.\n",
        "    \"\"\"\n",
        "    if target_height_m <= 0 or t0 <= 0:\n",
        "        raise ValueError(\"Altura objetivo y grosor inicial deben ser positivos.\")\n",
        "    return math.ceil(math.log2(target_height_m / t0))\n",
        "\n",
        "\n",
        "# ===== Ejemplo: distancia a Próxima Centauri =====\n",
        "# Distancia aproximada en metros\n",
        "distancia_proxima_centauri = 4.0175e16  # 4.0175 × 10^16 m\n",
        "\n",
        "# Calcular el número de dobleces\n",
        "n_folds = min_folds_to_reach(distancia_proxima_centauri)\n",
        "\n",
        "print(f\"Número mínimo de dobleces para superar la distancia a Próxima Centauri: {n_folds}\")\n"
      ],
      "metadata": {
        "colab": {
          "base_uri": "https://localhost:8080/"
        },
        "id": "gfYvkQ5z6zdH",
        "outputId": "52c8f44d-6dfd-40dc-c8e7-92de663d0e2a"
      },
      "execution_count": 3,
      "outputs": [
        {
          "output_type": "stream",
          "name": "stdout",
          "text": [
            "Número mínimo de dobleces para superar la distancia a Próxima Centauri: 69\n"
          ]
        }
      ]
    },
    {
      "cell_type": "markdown",
      "source": [
        "**[Problema 3] Longitud de papel requerida**\n",
        "\n",
        "De hecho, el papel que nos rodea no se puede doblar 10 veces, ni mucho menos 43. Sin embargo, cuanto más grande sea el papel, más se puede doblar. Existe una fórmula para calcular el número de veces que se puede doblar un trozo largo de papel, como el papel higiénico, considerando doblarlo en una sola dirección.\n",
        "\n",
        "La longitud de papel L necesaria para doblar una hoja de papel de grosor t​ ​0t0 n veces se puede obtener mediante la siguiente fórmula\n",
        "\n",
        "l = pi t 0 6 (2 n + 4) (2 n-1)l=πt06(2n+4)(2n−1)\n",
        "\n",
        "Utilice esta fórmula para implementar una función que encuentre la longitud del papel necesaria para doblar el papel y alcanzar cualquier grosor.\n",
        "\n",
        "Luego usa esto para averiguar la longitud de papel necesaria para llegar a la Luna, al Monte Fuji y a las estrellas más cercanas al Sol.\n",
        "\n",
        "\n",
        "Ojo: es (dos a la potencia n), no “2 n”."
      ],
      "metadata": {
        "id": "gOdPaIS-7HMZ"
      }
    },
    {
      "cell_type": "code",
      "source": [
        "import math\n",
        "from decimal import Decimal, getcontext\n",
        "\n",
        "# Precisión alta para longitudes astronómicas\n",
        "getcontext().prec = 50\n",
        "PI = Decimal(str(math.pi))\n",
        "\n",
        "# Grosor típico del papel (m) - como float para log2\n",
        "T0_DEFAULT = 0.00008  # 0.08 mm\n",
        "\n",
        "def min_folds_to_reach(target_height_m: float, t0: float = T0_DEFAULT) -> int:\n",
        "    \"\"\"\n",
        "    Devuelve el mínimo n tal que t0 * 2**n >= target_height_m.\n",
        "    Usa float (math.log2).\n",
        "    \"\"\"\n",
        "    if target_height_m <= 0 or t0 <= 0:\n",
        "        raise ValueError(\"Altura y t0 deben ser positivos.\")\n",
        "    # t0 y target como float para evitar mezclar con Decimal\n",
        "    return math.ceil(math.log2(float(target_height_m) / float(t0)))\n",
        "\n",
        "def required_paper_length_for_folds(n: int, t0: float = T0_DEFAULT) -> Decimal:\n",
        "    \"\"\"\n",
        "    Longitud mínima (m) para doblar n veces en una sola dirección.\n",
        "    Fórmula de Britney Gallivan:\n",
        "        L = (pi * t0 / 6) * (2**n + 4) * (2**n - 1)\n",
        "    Calculada en Decimal para no perder precisión.\n",
        "    \"\"\"\n",
        "    if n < 0:\n",
        "        raise ValueError(\"n no puede ser negativo.\")\n",
        "    t0D = Decimal(str(t0))\n",
        "    two_pow_n = (Decimal(2) ** n)\n",
        "    L = (PI * t0D / Decimal(6)) * (two_pow_n + 4) * (two_pow_n - 1)\n",
        "    return L\n",
        "\n",
        "def required_paper_length_to_reach(target_height_m: float,\n",
        "                                   t0: float = T0_DEFAULT) -> tuple[int, Decimal]:\n",
        "    \"\"\"\n",
        "    Calcula (n mínimo, longitud mínima de papel) para alcanzar una altura dada.\n",
        "    \"\"\"\n",
        "    n = min_folds_to_reach(target_height_m, t0)\n",
        "    L = required_paper_length_for_folds(n, t0)\n",
        "    return n, L\n",
        "\n",
        "def pretty_units(m: Decimal) -> str:\n",
        "    \"\"\"Muestra m en m, km, AU y ly (todo con Decimal).\"\"\"\n",
        "    AU = Decimal(\"1.495978707e11\")\n",
        "    LY = Decimal(\"9.460730472e15\")\n",
        "    return \"  |  \".join([\n",
        "        f\"{m:.3E} m\",\n",
        "        f\"{(m/Decimal(1000)):.3E} km\",\n",
        "        f\"{(m/AU):.6E} AU\",\n",
        "        f\"{(m/LY):.6E} ly\",\n",
        "    ])\n",
        "\n",
        "# ---- Ejemplos ----\n",
        "FUJI = 3776.0                  # m\n",
        "MOON = 384_400_000.0           # m\n",
        "PROXIMA = 4.0175e16            # m\n",
        "\n",
        "n_fuji, L_fuji = required_paper_length_to_reach(FUJI, t0=T0_DEFAULT)\n",
        "print(f\"Fuji (3776 m): n = {n_fuji} dobleces  |  Longitud: {pretty_units(L_fuji)}\")\n",
        "\n",
        "n_moon, L_moon = required_paper_length_to_reach(MOON, t0=T0_DEFAULT)\n",
        "print(f\"Luna (3.844e8 m): n = {n_moon} dobleces  |  Longitud: {pretty_units(L_moon)}\")\n",
        "\n",
        "n_prox, L_prox = required_paper_length_to_reach(PROXIMA, t0=T0_DEFAULT)\n",
        "print(f\"Próxima Centauri (4.0175e16 m): n = {n_prox} dobleces  |  Longitud: {pretty_units(L_prox)}\")\n"
      ],
      "metadata": {
        "colab": {
          "base_uri": "https://localhost:8080/"
        },
        "id": "uuDVFCEM93-s",
        "outputId": "40ebc83e-706f-4740-ab1c-4e23599c7d9b"
      },
      "execution_count": 5,
      "outputs": [
        {
          "output_type": "stream",
          "name": "stdout",
          "text": [
            "Fuji (3776 m): n = 26 dobleces  |  Longitud: 1.886E+11 m  |  1.886E+8 km  |  1.261023E+0 AU  |  1.993993E-5 ly\n",
            "Luna (3.844e8 m): n = 43 dobleces  |  Longitud: 3.241E+21 m  |  3.241E+18 km  |  2.166421E+10 AU  |  3.425655E+5 ly\n",
            "Próxima Centauri (4.0175e16 m): n = 69 dobleces  |  Longitud: 1.460E+37 m  |  1.460E+34 km  |  9.756692E+25 AU  |  1.542778E+21 ly\n"
          ]
        }
      ]
    }
  ]
}