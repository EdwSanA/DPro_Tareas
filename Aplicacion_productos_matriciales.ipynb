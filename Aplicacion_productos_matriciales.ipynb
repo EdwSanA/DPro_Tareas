{
  "nbformat": 4,
  "nbformat_minor": 0,
  "metadata": {
    "colab": {
      "provenance": [],
      "authorship_tag": "ABX9TyM4qCs7+bE8MQLxwHEWx9TY",
      "include_colab_link": true
    },
    "kernelspec": {
      "name": "python3",
      "display_name": "Python 3"
    },
    "language_info": {
      "name": "python"
    }
  },
  "cells": [
    {
      "cell_type": "markdown",
      "metadata": {
        "id": "view-in-github",
        "colab_type": "text"
      },
      "source": [
        "<a href=\"https://colab.research.google.com/github/EdwSanA/DPro_Tareas/blob/main/Aplicacion_productos_matriciales.ipynb\" target=\"_parent\"><img src=\"https://colab.research.google.com/assets/colab-badge.svg\" alt=\"Open In Colab\"/></a>"
      ]
    },
    {
      "cell_type": "markdown",
      "source": [
        "**Producto matriz**\n",
        "Considere las siguientes matrices A y B.\n",
        "\n",
        "A=[−1234−5678−9],B=[02102−829−1]"
      ],
      "metadata": {
        "id": "e_IEsPgXsnIu"
      }
    },
    {
      "cell_type": "markdown",
      "source": [
        "**[Problema 1] El producto de matriz se calcula manualmente**\n",
        "\n",
        "Resuelve el producto matricial de A y B a mano.\n",
        "\n",
        "Explique también el proceso de cálculo utilizando el texto de rebaja."
      ],
      "metadata": {
        "id": "Bc-58kJDs3QL"
      }
    },
    {
      "cell_type": "markdown",
      "source": [
        "Producto de matrices:\n",
        "\n",
        "C = A × B\n",
        "\n",
        "C[1,1] = (-1)(0) + (2)(0) + (3)(2)  = 6  \n",
        "C[1,2] = (-1)(2) + (2)(2) + (3)(9)  = 29  \n",
        "C[1,3] = (-1)(1) + (2)(-8) + (3)(-1) = -20  \n",
        "\n",
        "C[2,1] = (4)(0) + (-5)(0) + (6)(2)  = 12  \n",
        "C[2,2] = (4)(2) + (-5)(2) + (6)(9)  = 52  \n",
        "C[2,3] = (4)(1) + (-5)(-8) + (6)(-1) = 38  \n",
        "\n",
        "C[3,1] = (7)(0) + (8)(0) + (-9)(2)  = -18  \n",
        "C[3,2] = (7)(2) + (8)(2) + (-9)(9)  = -51  \n",
        "C[3,3] = (7)(1) + (8)(-8) + (-9)(-1) = -48\n",
        "\n",
        "### Producto de matrices \\(A*B)\n",
        "\n",
        "El producto \\(C = A B\\) se calcula multiplicando cada fila de \\(A\\) por cada\n",
        "columna de \\(B\\).  \n",
        "El resultado es:\n",
        "\n",
        "\\[\n",
        "A B =\n",
        "\\begin{bmatrix}\n",
        "6  & 29 & -20 \\\\\n",
        "12 & 52 &  38 \\\\\n",
        "-18& -51& -48\n",
        "\\end{bmatrix}.\n",
        "\\]\n"
      ],
      "metadata": {
        "id": "xxUmeGxHtY3N"
      }
    },
    {
      "cell_type": "markdown",
      "source": [
        "**[Problema 2] Cálculo por función NumPy**\n",
        "\n",
        "Este producto matricial de NumPy np.matmul () O np.dot () O @ @ Puede calcular fácilmente utilizando el operador.\n",
        "\n",
        "Úselos para calcular el producto matricial.\n",
        "\n",
        "numpy.matmul - Manual de NumPy v1.16\n",
        "\n",
        "numpy.dot - Manual de NumPy v1.16\n",
        "\n",
        "《Tres tipos de diferencia》\n",
        "\n",
        "np.matmul () Cuando np.dot () Se comporta de manera diferente en matrices 3D o superiores. @ @ El operador es np.matmul () Funciona igual que.\n",
        "\n",
        "En la matriz de multiplicación de una matriz bidimensional como esta vez np.matmul () O @ @ Los operadores son recomendados oficialmente. Lo siguiente es np.dot () Es una cita de la explicación.\n",
        "\n",
        "Si tanto a como b son matrices 2-D, es una multiplicación matricial, pero se prefiere usar matmul o a @ b."
      ],
      "metadata": {
        "id": "Zebdzp8_tb-Y"
      }
    },
    {
      "cell_type": "code",
      "source": [
        "import numpy as np\n",
        "\n",
        "# Definir las matrices A y B\n",
        "A = np.array([[-1,  2,  3],\n",
        "              [ 4, -5,  6],\n",
        "              [ 7,  8, -9]])\n",
        "\n",
        "B = np.array([[ 0,  2,  1],\n",
        "              [ 0,  2, -8],\n",
        "              [ 2,  9, -1]])\n",
        "\n",
        "# 1) Usando np.matmul\n",
        "C1 = np.matmul(A, B)\n",
        "\n",
        "# 2) Usando el operador @ (equivale a np.matmul)\n",
        "C2 = A @ B\n",
        "\n",
        "# 3) Usando np.dot (para 2-D también es multiplicación de matrices)\n",
        "C3 = np.dot(A, B)\n",
        "\n",
        "print(\"Resultado con np.matmul:\\n\", C1)\n",
        "print(\"\\nResultado con operador @:\\n\", C2)\n",
        "print(\"\\nResultado con np.dot:\\n\", C3)\n"
      ],
      "metadata": {
        "colab": {
          "base_uri": "https://localhost:8080/"
        },
        "id": "5dRy8S_1zNzW",
        "outputId": "4a591be5-a1ed-45ce-9ce6-94b7c0711253"
      },
      "execution_count": 2,
      "outputs": [
        {
          "output_type": "stream",
          "name": "stdout",
          "text": [
            "Resultado con np.matmul:\n",
            " [[  6  29 -20]\n",
            " [ 12  52  38]\n",
            " [-18 -51 -48]]\n",
            "\n",
            "Resultado con operador @:\n",
            " [[  6  29 -20]\n",
            " [ 12  52  38]\n",
            " [-18 -51 -48]]\n",
            "\n",
            "Resultado con np.dot:\n",
            " [[  6  29 -20]\n",
            " [ 12  52  38]\n",
            " [-18 -51 -48]]\n"
          ]
        }
      ]
    },
    {
      "cell_type": "markdown",
      "source": [
        "**[Problema 3] Implementación del cálculo de cierto elemento**\n",
        "\n",
        "Al hacer el cálculo manual, creo que presté atención a la fila 0 de la matriz A y la columna 0 de la matriz B, y realicé el siguiente cálculo.\n",
        "\n",
        "Multiplique el elemento (0,0) $ a_ {0, 0} $ de la matriz A con el elemento (0,0) $ b_ {0, 0} $ de la matriz B\n",
        "Multiplique el elemento (0,1) $ a_ {0, 1} $ de la matriz A con el elemento (1,0) $ b_ {1, 0} $ de la matriz B\n",
        "Multiplique el elemento (0,2) $ a_ {0, 2} $ de la matriz A con el elemento (2,0) $ b_ {2, 0} $ de la matriz B\n",
        "Suma todos esos valores.\n",
        "Expresado como una fórmula\n",
        "\n",
        "2∑K=0a0,KBK,0∑K=02a0,KBK,0\n",
        "\n",
        "es.\n",
        "\n",
        "Este calculo np.matmul () O np.dot () O @ @ Escriba el código para hacerlo sin usar operadores."
      ],
      "metadata": {
        "id": "xN1nARpxzZgh"
      }
    },
    {
      "cell_type": "code",
      "source": [
        "import numpy as np\n",
        "\n",
        "A = np.array([[-1, 2,  3],\n",
        "              [ 4,-5,  6],\n",
        "              [ 7, 8, -9]])\n",
        "\n",
        "B = np.array([[ 0, 2,  1],\n",
        "              [ 0, 2, -8],\n",
        "              [ 2, 9, -1]])\n",
        "\n",
        "# Calcular manualmente el elemento (0,0) de A·B\n",
        "c00 = 0\n",
        "for k in range(A.shape[1]):           # recorre las 3 columnas de A (= 3 filas de B)\n",
        "    c00 += A[0, k] * B[k, 0]\n",
        "\n",
        "print(\"Elemento (0,0) de A·B =\", c00)\n"
      ],
      "metadata": {
        "colab": {
          "base_uri": "https://localhost:8080/"
        },
        "id": "9QL0KufRz2_G",
        "outputId": "defc1502-aeed-471d-d1c6-344012a9784c"
      },
      "execution_count": 3,
      "outputs": [
        {
          "output_type": "stream",
          "name": "stdout",
          "text": [
            "Elemento (0,0) de A·B = 6\n"
          ]
        }
      ]
    },
    {
      "cell_type": "markdown",
      "source": [
        "**[Problema 4] Crear una función que realice la multiplicación de matrices**\n",
        "\n",
        "Extienda el código en el problema 3 para completar la implementación scratch del producto matriz. Debe ser una función que tome las matrices A y B como argumentos y devuelva el producto matricial.\n",
        "\n",
        "Al calcular el producto matricial, repetirá el cálculo en el problema 3 para diferentes filas y columnas.\n",
        "\n",
        "Cada elemento $ c_ {i, j} $ de la matriz C del resultado calculado $ 3 \\ times 3 $ se expresa de la siguiente manera.\n",
        "\n",
        "ci,j=2∑K=0ai,KBK,jci,j=∑K=02ai,KBK,j\n",
        "\n",
        "Al usar la instrucción for y mover el índice ndarray, se puede calcular un total de 9 elementos. Puede aumentar el índice $ i $ o $ j $ en 1 para pasar a la siguiente fila o columna."
      ],
      "metadata": {
        "id": "mHnTkKV_0aN7"
      }
    },
    {
      "cell_type": "code",
      "source": [
        "import numpy as np\n",
        "\n",
        "def matrix_multiply(A: np.ndarray, B: np.ndarray) -> np.ndarray:\n",
        "    \"\"\"\n",
        "    Calcula manualmente el producto matricial C = A × B\n",
        "    sin usar np.matmul, np.dot ni el operador @.\n",
        "\n",
        "    Parámetros\n",
        "    ----------\n",
        "    A : ndarray (m x n)\n",
        "    B : ndarray (n x p)\n",
        "\n",
        "    Retorna\n",
        "    -------\n",
        "    C : ndarray (m x p)\n",
        "    \"\"\"\n",
        "    # Verificar compatibilidad de dimensiones\n",
        "    if A.shape[1] != B.shape[0]:\n",
        "        raise ValueError(\"Las dimensiones de A y B no permiten multiplicación\")\n",
        "\n",
        "    m, n = A.shape\n",
        "    n2, p = B.shape\n",
        "    C = np.zeros((m, p), dtype=A.dtype)\n",
        "\n",
        "    # Triple bucle: fila de A, columna de B, suma de productos\n",
        "    for i in range(m):          # recorre filas de A\n",
        "        for j in range(p):      # recorre columnas de B\n",
        "            s = 0\n",
        "            for k in range(n):  # recorre columnas de A (= filas de B)\n",
        "                s += A[i, k] * B[k, j]\n",
        "            C[i, j] = s\n",
        "    return C\n",
        "A = np.array([[-1, 2,  3],\n",
        "              [ 4,-5,  6],\n",
        "              [ 7, 8, -9]])\n",
        "\n",
        "B = np.array([[ 0, 2,  1],\n",
        "              [ 0, 2, -8],\n",
        "              [ 2, 9, -1]])\n",
        "\n",
        "C = matrix_multiply(A, B)\n",
        "print(C)\n"
      ],
      "metadata": {
        "colab": {
          "base_uri": "https://localhost:8080/"
        },
        "id": "jHjCLGic0fKt",
        "outputId": "459abc68-a71a-485d-91e5-5f08b12a57a7"
      },
      "execution_count": 5,
      "outputs": [
        {
          "output_type": "stream",
          "name": "stdout",
          "text": [
            "[[  6  29 -20]\n",
            " [ 12  52  38]\n",
            " [-18 -51 -48]]\n"
          ]
        }
      ]
    },
    {
      "cell_type": "markdown",
      "source": [
        "Ahora considere el siguiente ejemplo.\n",
        "\n",
        "d_ndarray = np.array([[-1, 2, 3], [4, -5, 6]])\n",
        "\n",
        "e_ndarray = np.array([[-9, 8, 7], [6, -5, 4]])\n",
        "\n",
        "El producto matriz DE se define cuando el número de columnas de D es igual al número de filas de E, por lo que no se puede calcular en este ejemplo.\n",
        "\n",
        "**[Problema 5] Juzgue la entrada cuyo cálculo no está definido**\n",
        "\n",
        "Dependiendo del método de implementación, la función creada en el problema 4 puede funcionar incluso si se ingresa esta matriz D y E. En este caso, se realizarán cálculos incorrectos. Además, incluso si se produce un error en el medio, se muestra directamente un mensaje que es difícil de entender por qué ocurrió el error. Esto se evita mediante una declaración if, etc., y hay un problema en el formulario de entrada. impresión() Agregue el código para mostrar usando."
      ],
      "metadata": {
        "id": "9u3lbv4Q2jMK"
      }
    },
    {
      "cell_type": "code",
      "source": [
        "import numpy as np\n",
        "\n",
        "def matrix_multiply(A: np.ndarray, B: np.ndarray) -> np.ndarray:\n",
        "    \"\"\"\n",
        "    Producto matricial C = A × B hecho a mano.\n",
        "    Si las dimensiones son incompatibles, muestra un\n",
        "    mensaje claro y no intenta el cálculo.\n",
        "    \"\"\"\n",
        "    # Comprobación de dimensiones\n",
        "    if A.shape[1] != B.shape[0]:\n",
        "        print(\"Error: el número de columnas de A \"\n",
        "              f\"({A.shape[1]}) no coincide con el número de filas de B ({B.shape[0]}).\")\n",
        "        print(\"El producto A × B no está definido.\")\n",
        "        return None  # o podrías raise ValueError con un mensaje claro\n",
        "\n",
        "    m, n = A.shape\n",
        "    _, p = B.shape\n",
        "    C = np.zeros((m, p), dtype=A.dtype)\n",
        "\n",
        "    for i in range(m):\n",
        "        for j in range(p):\n",
        "            s = 0\n",
        "            for k in range(n):\n",
        "                s += A[i, k] * B[k, j]\n",
        "            C[i, j] = s\n",
        "    return C"
      ],
      "metadata": {
        "id": "VsBWIE2x278B"
      },
      "execution_count": 9,
      "outputs": []
    },
    {
      "cell_type": "code",
      "source": [
        "d_ndarray = np.array([[-1, 2, 3],\n",
        "                      [ 4,-5, 6]])\n",
        "e_ndarray = np.array([[-9, 8, 7],\n",
        "                      [ 6,-5, 4]])\n",
        "\n",
        "result = matrix_multiply(d_ndarray, e_ndarray)\n",
        "print(\"Resultado:\", result)\n"
      ],
      "metadata": {
        "colab": {
          "base_uri": "https://localhost:8080/"
        },
        "id": "lRJi5tce3NoZ",
        "outputId": "dbbdecfb-48a7-48e6-8b32-685239d31422"
      },
      "execution_count": 10,
      "outputs": [
        {
          "output_type": "stream",
          "name": "stdout",
          "text": [
            "Error: el número de columnas de A (3) no coincide con el número de filas de B (2).\n",
            "El producto A × B no está definido.\n",
            "Resultado: None\n"
          ]
        }
      ]
    },
    {
      "cell_type": "markdown",
      "source": [
        "**[Problema 6] Transposición**\n",
        "\n",
        "La transposición de una matriz le permite calcular el producto de la matriz.\n",
        "\n",
        "np.transpose () O .T Transponer usando el atributo y calcular el producto matricial.\n",
        "\n",
        "numpy.transpose - Manual de NumPy v1.16\n",
        "\n",
        "numpy.ndarray.T - NumPy v1.16 Manual"
      ],
      "metadata": {
        "id": "vm71EZV530zk"
      }
    },
    {
      "cell_type": "code",
      "source": [
        "import numpy as np\n",
        "\n",
        "a_ndarray = np.array([[-1, 2, 3], [4, -5, 6], [7, 8, -9]])\n",
        "d_ndarray = np.array([[-1, 2, 3], [4, -5, 6]])\n",
        "e_ndarray = np.array([[-9, 8, 7], [6, -5, 4]])\n",
        "\n",
        "# Transposición de la matriz D para poder multiplicarla por E\n",
        "d_transposed = d_ndarray.T\n",
        "\n",
        "print(\"Matriz D original:\\n\", d_ndarray)\n",
        "print(\"\\nMatriz D transpuesta:\\n\", d_transposed)\n",
        "\n",
        "# La multiplicación de D.T por E es posible\n",
        "# (Filas de D.T = 3, Columnas de E = 2)\n",
        "# Las dimensiones son (3x2) * (2x3), lo que produce una matriz (3x3)\n",
        "product_de_transposed = d_transposed @ e_ndarray\n",
        "print(\"\\nProducto de D.T @ E:\\n\", product_de_transposed)"
      ],
      "metadata": {
        "colab": {
          "base_uri": "https://localhost:8080/"
        },
        "id": "7LYw1Msv5hU3",
        "outputId": "d54105cf-eb8c-439a-bf1c-1f187307c725"
      },
      "execution_count": 15,
      "outputs": [
        {
          "output_type": "stream",
          "name": "stdout",
          "text": [
            "Matriz D original:\n",
            " [[-1  2  3]\n",
            " [ 4 -5  6]]\n",
            "\n",
            "Matriz D transpuesta:\n",
            " [[-1  4]\n",
            " [ 2 -5]\n",
            " [ 3  6]]\n",
            "\n",
            "Producto de D.T @ E:\n",
            " [[ 33 -28   9]\n",
            " [-48  41  -6]\n",
            " [  9  -6  45]]\n"
          ]
        }
      ]
    }
  ]
}